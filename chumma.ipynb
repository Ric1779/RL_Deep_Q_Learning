{
 "cells": [
  {
   "cell_type": "code",
   "execution_count": 5,
   "metadata": {},
   "outputs": [],
   "source": [
    "import gym\n",
    "from gym.wrappers import AtariPreprocessing\n",
    "import pygame\n",
    "\n",
    "env = gym.make('Pong-v4',render_mode='human')\n",
    "env = AtariPreprocessing(env, screen_size=84, grayscale_obs=True, frame_skip=1, noop_max=30)"
   ]
  },
  {
   "cell_type": "code",
   "execution_count": 6,
   "metadata": {},
   "outputs": [
    {
     "data": {
      "text/plain": [
       "Discrete(6)"
      ]
     },
     "execution_count": 6,
     "metadata": {},
     "output_type": "execute_result"
    }
   ],
   "source": [
    "env.action_space"
   ]
  },
  {
   "cell_type": "code",
   "execution_count": 33,
   "metadata": {},
   "outputs": [
    {
     "name": "stdout",
     "output_type": "stream",
     "text": [
      "torch.Size([84, 84])\n",
      "obs_stack shape:torch.Size([1, 4, 84, 84])\n",
      "Shape of next_obs_stack\n",
      "torch.Size([1, 4, 84, 84])\n",
      "Shape of next_obs_stack\n",
      "torch.Size([1, 4, 84, 84])\n",
      "Shape of next_obs_stack\n",
      "torch.Size([1, 4, 84, 84])\n",
      "Shape of next_obs_stack\n",
      "torch.Size([1, 4, 84, 84])\n",
      "Shape of next_obs_stack\n",
      "torch.Size([1, 4, 84, 84])\n",
      "Shape of next_obs_stack\n",
      "torch.Size([1, 4, 84, 84])\n",
      "Shape of next_obs_stack\n",
      "torch.Size([1, 4, 84, 84])\n",
      "Shape of next_obs_stack\n",
      "torch.Size([1, 4, 84, 84])\n",
      "Shape of next_obs_stack\n",
      "torch.Size([1, 4, 84, 84])\n",
      "Shape of next_obs_stack\n",
      "torch.Size([1, 4, 84, 84])\n",
      "torch.Size([1, 84, 84])\n",
      "obs_stack shape:torch.Size([1, 4, 1, 84, 84])\n"
     ]
    },
    {
     "ename": "RuntimeError",
     "evalue": "Tensors must have same number of dimensions: got 5 and 4",
     "output_type": "error",
     "traceback": [
      "\u001b[0;31m---------------------------------------------------------------------------\u001b[0m",
      "\u001b[0;31mRuntimeError\u001b[0m                              Traceback (most recent call last)",
      "Cell \u001b[0;32mIn [33], line 31\u001b[0m\n\u001b[1;32m     29\u001b[0m observation \u001b[39m=\u001b[39m torch\u001b[39m.\u001b[39mfrom_numpy(observation)\n\u001b[1;32m     30\u001b[0m observation \u001b[39m=\u001b[39m observation\u001b[39m.\u001b[39munsqueeze(\u001b[39m0\u001b[39m)\n\u001b[0;32m---> 31\u001b[0m next_obs_stack \u001b[39m=\u001b[39m torch\u001b[39m.\u001b[39;49mcat((obs_stack[:, \u001b[39m1\u001b[39;49m:, \u001b[39m.\u001b[39;49m\u001b[39m.\u001b[39;49m\u001b[39m.\u001b[39;49m], observation\u001b[39m.\u001b[39;49munsqueeze(\u001b[39m0\u001b[39;49m)), dim\u001b[39m=\u001b[39;49m\u001b[39m1\u001b[39;49m)\u001b[39m.\u001b[39mto(device)\n\u001b[1;32m     32\u001b[0m \u001b[39mprint\u001b[39m(\u001b[39m'\u001b[39m\u001b[39mShape of next_obs_stack\u001b[39m\u001b[39m'\u001b[39m)\n\u001b[1;32m     33\u001b[0m \u001b[39mprint\u001b[39m(next_obs_stack\u001b[39m.\u001b[39mshape)\n",
      "\u001b[0;31mRuntimeError\u001b[0m: Tensors must have same number of dimensions: got 5 and 4"
     ]
    }
   ],
   "source": [
    "env.metadata['render_fps'] = 30\n",
    "import torch\n",
    "obs_stack_size = 4\n",
    "obs = []\n",
    "obs = env.reset()[0]\n",
    "obs = torch.from_numpy(obs)\n",
    "device = 'cpu'\n",
    "for episode in range(2):\n",
    "        print(obs.shape)\n",
    "        obs = obs.unsqueeze(0)\n",
    "        obs_stack = torch.cat(obs_stack_size * [obs]).unsqueeze(0).to(device)\n",
    "        print('obs_stack shape:{}'.format(obs_stack.shape))\n",
    "        # this is each frame, up to 200...but we wont make it that far.\n",
    "        for t in range(200):\n",
    "\n",
    "            # This will display the environment\n",
    "            # Only display if you really want to see it.\n",
    "            # Takes much longer to display it.\n",
    "            env.render()\n",
    "\n",
    "            # This will just create a sample action in any environment.\n",
    "            # In this environment, the action can be 0 or 1, which is left or right\n",
    "            action = env.action_space.sample()\n",
    "\n",
    "            # this executes the environment with an action,\n",
    "            # and returns the observation of the environment,\n",
    "            # the reward, if the env is over, and other info.\n",
    "            observation, reward, done, _, info = env.step(action)\n",
    "            observation = torch.from_numpy(observation)\n",
    "            observation = observation.unsqueeze(0)\n",
    "            next_obs_stack = torch.cat((obs_stack[:, 1:, ...], observation.unsqueeze(0)), dim=1).to(device)\n",
    "            print('Shape of next_obs_stack')\n",
    "            print(next_obs_stack.shape)\n",
    "            t += 1\n",
    "            if t==10:\n",
    "                break\n",
    "            if done:\n",
    "                break\n",
    "pygame.quit()\n",
    "env.reset()\n",
    "env.close()"
   ]
  },
  {
   "cell_type": "code",
   "execution_count": null,
   "metadata": {},
   "outputs": [],
   "source": []
  }
 ],
 "metadata": {
  "kernelspec": {
   "display_name": "Python 3",
   "language": "python",
   "name": "python3"
  },
  "language_info": {
   "codemirror_mode": {
    "name": "ipython",
    "version": 3
   },
   "file_extension": ".py",
   "mimetype": "text/x-python",
   "name": "python",
   "nbconvert_exporter": "python",
   "pygments_lexer": "ipython3",
   "version": "3.10.6"
  },
  "orig_nbformat": 4,
  "vscode": {
   "interpreter": {
    "hash": "916dbcbb3f70747c44a77c7bcd40155683ae19c65e1c03b4aa3499c5328201f1"
   }
  }
 },
 "nbformat": 4,
 "nbformat_minor": 2
}
